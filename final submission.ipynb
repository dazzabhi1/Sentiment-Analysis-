{
 "cells": [
  {
   "cell_type": "code",
   "execution_count": 59,
   "metadata": {},
   "outputs": [],
   "source": [
    "import numpy as np\n",
    "import pandas as pd\n",
    "import matplotlib.pyplot as plt\n",
    "import re\n",
    "import nltk\n",
    "import stylecloud\n",
    "from nltk.corpus import stopwords \n",
    "from nltk.stem import WordNetLemmatizer \n",
    "from nltk.corpus import wordnet\n",
    "from nltk.tokenize import TweetTokenizer\n",
    "from sklearn.feature_extraction.text import TfidfVectorizer,CountVectorizer\n",
    "from sklearn.naive_bayes import MultinomialNB\n",
    "from sklearn.decomposition import TruncatedSVD\n",
    "from sklearn.linear_model import LogisticRegression\n",
    "from sklearn.pipeline import Pipeline\n",
    "from sklearn.model_selection import GridSearchCV\n",
    "from imblearn.over_sampling import SMOTE,ADASYN\n",
    "from sklearn.svm import SVC\n",
    "from sklearn.model_selection import RepeatedStratifiedKFold\n",
    "from sklearn.model_selection import train_test_split"
   ]
  },
  {
   "cell_type": "markdown",
   "metadata": {},
   "source": [
    "##### Read_csv files"
   ]
  },
  {
   "cell_type": "code",
   "execution_count": 82,
   "metadata": {},
   "outputs": [],
   "source": [
    "# train data\n",
    "tweet_data=pd.read_csv('train.csv')\n",
    "#Read test data\n",
    "test_data=pd.read_csv('test.csv')"
   ]
  },
  {
   "cell_type": "code",
   "execution_count": 83,
   "metadata": {},
   "outputs": [
    {
     "data": {
      "text/plain": [
       "tweet_id     0\n",
       "tweet        1\n",
       "sentiment    0\n",
       "dtype: int64"
      ]
     },
     "execution_count": 83,
     "metadata": {},
     "output_type": "execute_result"
    }
   ],
   "source": [
    "# check null values\n",
    "tweet_data.isnull().sum()"
   ]
  },
  {
   "cell_type": "code",
   "execution_count": 84,
   "metadata": {},
   "outputs": [],
   "source": [
    "# dropping null values\n",
    "tweet_data=tweet_data.drop('tweet_id',axis=1)\n",
    "tweet_data.dropna(axis=0,inplace=True)"
   ]
  },
  {
   "cell_type": "code",
   "execution_count": 85,
   "metadata": {},
   "outputs": [
    {
     "name": "stdout",
     "output_type": "stream",
     "text": [
      "Number of tweets : 7273\n"
     ]
    }
   ],
   "source": [
    "# print total number of tweets\n",
    "print('Number of tweets :',tweet_data['tweet'].shape[0])"
   ]
  },
  {
   "cell_type": "code",
   "execution_count": 86,
   "metadata": {},
   "outputs": [
    {
     "data": {
      "image/png": "[encoded data removed]",
      "text/plain": [
       "<Figure size 432x288 with 1 Axes>"
      ]
     },
     "metadata": {
      "needs_background": "light"
     },
     "output_type": "display_data"
    }
   ],
   "source": [
    "# bar plot of tweets\n",
    "no_of_tweets=tweet_data['sentiment'].value_counts()\n",
    "no_of_tweets.plot(kind='bar').set_xticklabels(['POSITIVE','NEGATIVE','NEUTRAL','UNKNOWN'])\n",
    "for i,n in enumerate(no_of_tweets,0):\n",
    "    plt.text(i,n,n,horizontalalignment='center',verticalalignment='bottom')"
   ]
  },
  {
   "cell_type": "code",
   "execution_count": 87,
   "metadata": {},
   "outputs": [],
   "source": [
    "# dictionary to covert full forms\n",
    "short_word_dict = {\n",
    "\"121\": \"one to one\",\n",
    "\"a/s/l\": \"age, sex, location\",\n",
    "\"adn\": \"any day now\",\n",
    "\"afaik\": \"as far as I know\",\n",
    "\"afk\": \"away from keyboard\",\n",
    "\"aight\": \"alright\",\n",
    "\"alol\": \"actually laughing out loud\",\n",
    "\"b4\": \"before\",\n",
    "\"b4n\": \"bye for now\",\n",
    "\"bak\": \"back at the keyboard\",\n",
    "\"bf\": \"boyfriend\",\n",
    "\"bff\": \"best friends forever\",\n",
    "\"bfn\": \"bye for now\",\n",
    "\"bg\": \"big grin\",\n",
    "\"bta\": \"but then again\",\n",
    "\"btw\": \"by the way\",\n",
    "\"cid\": \"crying in disgrace\",\n",
    "\"cnp\": \"continued in my next post\",\n",
    "\"cp\": \"chat post\",\n",
    "\"cu\": \"see you\",\n",
    "\"cul\": \"see you later\",\n",
    "\"cul8r\": \"see you later\",\n",
    "\"cya\": \"bye\",\n",
    "\"cyo\": \"see you online\",\n",
    "\"dbau\": \"doing business as usual\",\n",
    "\"fud\": \"fear, uncertainty, and doubt\",\n",
    "\"fwiw\": \"for what it's worth\",\n",
    "\"fyi\": \"for your information\",\n",
    "\"g\": \"grin\",\n",
    "\"g2g\": \"got to go\",\n",
    "\"ga\": \"go ahead\",\n",
    "\"gal\": \"get a life\",\n",
    "\"gf\": \"girlfriend\",\n",
    "\"gfn\": \"gone for now\",\n",
    "\"gmbo\": \"giggling my butt off\",\n",
    "\"gmta\": \"great minds think alike\",\n",
    "\"h8\": \"hate\",\n",
    "\"hagn\": \"have a good night\",\n",
    "\"hdop\": \"help delete online predators\",\n",
    "\"hhis\": \"hanging head in shame\",\n",
    "\"iac\": \"in any case\",\n",
    "\"ianal\": \"I am not a lawyer\",\n",
    "\"ic\": \"I see\",\n",
    "\"idk\": \"I don't know\",\n",
    "\"imao\": \"in my arrogant opinion\",\n",
    "\"imnsho\": \"in my not so humble opinion\",\n",
    "\"imo\": \"in my opinion\",\n",
    "\"iow\": \"in other words\",\n",
    "\"ipn\": \"I’m posting naked\",\n",
    "\"irl\": \"in real life\",\n",
    "\"jk\": \"just kidding\",\n",
    "\"l8r\": \"later\",\n",
    "\"ld\": \"later, dude\",\n",
    "\"ldr\": \"long distance relationship\",\n",
    "\"llta\": \"lots and lots of thunderous applause\",\n",
    "\"lmao\": \"laugh my ass off\",\n",
    "\"lmirl\": \"let's meet in real life\",\n",
    "\"lol\": \"laugh out loud\",\n",
    "\"ltr\": \"longterm relationship\",\n",
    "\"lulab\": \"love you like a brother\",\n",
    "\"lulas\": \"love you like a sister\",\n",
    "\"luv\": \"love\",\n",
    "\"m/f\": \"male or female\",\n",
    "\"m8\": \"mate\",\n",
    "\"milf\": \"mother I would like to fuck\",\n",
    "\"oll\": \"online love\",\n",
    "\"omg\": \"oh my god\",\n",
    "\"otoh\": \"on the other hand\",\n",
    "\"pir\": \"parent in room\",\n",
    "\"ppl\": \"people\",\n",
    "\"r\": \"are\",\n",
    "\"rofl\": \"roll on the floor laughing\",\n",
    "\"rpg\": \"role playing games\",\n",
    "\"ru\": \"are you\",\n",
    "\"shid\": \"slaps head in disgust\",\n",
    "\"somy\": \"sick of me yet\",\n",
    "\"sot\": \"short of time\",\n",
    "\"thanx\": \"thanks\",\n",
    "\"thx\": \"thanks\",\n",
    "\"ttyl\": \"talk to you later\",\n",
    "\"u\": \"you\",\n",
    "\"ur\": \"you are\",\n",
    "\"uw\": \"you’re welcome\",\n",
    "\"wb\": \"welcome back\",\n",
    "\"wfm\": \"works fo\\r me\",\n",
    "\"wibni\": \"wouldn't it be nice if\",\n",
    "\"wtf\": \"what the fuck\",\n",
    "\"wtg\": \"way to go\",\n",
    "\"wtgp\": \"want to go private\",\n",
    "\"ym\": \"young man\",\n",
    "\"gr8\": \"great\"\n",
    "}"
   ]
  },
  {
   "cell_type": "code",
   "execution_count": 88,
   "metadata": {},
   "outputs": [],
   "source": [
    "# dictionary for negations\n",
    "negation_dic={\"ain't\": \"am not / are not\",\n",
    "\"aren't\": \"are not / am not\",\n",
    "\"can't\": \"cannot\",\n",
    "\"can't've\": \"cannot have\",\n",
    "\"'cause\": \"because\",\n",
    "\"could've\": \"could have\",\n",
    "\"couldn't\": \"could not\",\n",
    "\"couldn't've\": \"could not have\",\n",
    "\"didn't\": \"did not\",\n",
    "\"doesn't\": \"does not\",\n",
    "\"don't\": \"do not\",\n",
    "\"hadn't\": \"had not\",\n",
    "\"hadn't've\": \"had not have\",\n",
    "\"hasn't\": \"has not\",\n",
    "\"haven't\": \"have not\",\n",
    "\"he'd\": \"he had / he would\",\n",
    "\"he'd've\": \"he would have\",\n",
    "\"he'll\": \"he shall / he will\",\n",
    "\"he'll've\": \"he shall have / he will have\",\n",
    "\"he's\": \"he has / he is\",\n",
    "\"how'd\": \"how did\",\n",
    "\"how'd'y\": \"how do you\",\n",
    "\"how'll\": \"how will\",\n",
    "\"how's\": \"how has / how is\",\n",
    "\"i'd\": \"I had / I would\",\n",
    "\"i'd've\": \"I would have\",\n",
    "\"i'll\": \"I shall / I will\",\n",
    "\"i'll've\": \"I shall have / I will have\",\n",
    "\"i'm\": \"I am\",\n",
    "\"i've\": \"I have\",\n",
    "\"isn't\": \"is not\",\n",
    "\"it'd\": \"it had / it would\",\n",
    "\"it'd've\": \"it would have\",\n",
    "\"it'll\": \"it shall / it will\",\n",
    "\"it'll've\": \"it shall have / it will have\",\n",
    "\"it's\": \"it has / it is\",\n",
    "\"let's\": \"let us\",\n",
    "\"ma'am\": \"madam\",\n",
    "\"mayn't\": \"may not\",\n",
    "\"might've\": \"might have\",\n",
    "\"mightn't\": \"might not\",\n",
    "\"mightn't've\": \"might not have\",\n",
    "\"must've\": \"must have\",\n",
    "\"mustn't\": \"must not\",\n",
    "\"mustn't've\": \"must not have\",\n",
    "\"needn't\": \"need not\",\n",
    "\"needn't've\": \"need not have\",\n",
    "\"o'clock\": \"of the clock\",\n",
    "\"oughtn't\": \"ought not\",\n",
    "\"oughtn't've\": \"ought not have\",\n",
    "\"pls\":\"please\",\n",
    "\"shan't\": \"shall not\",\n",
    "\"sha'n't\": \"shall not\",\n",
    "\"shan't've\": \"shall not have\",\n",
    "\"she'd\": \"she had / she would\",\n",
    "\"she'd've\": \"she would have\",\n",
    "\"she'll\": \"she shall / she will\",\n",
    "\"she'll've\": \"she shall have / she will have\",\n",
    "\"she's\": \"she has / she is\",\n",
    "\"should've\": \"should have\",\n",
    "\"shouldn't\": \"should not\",\n",
    "\"shouldn't've\": \"should not have\",\n",
    "\"so've\": \"so have\",\n",
    "\"so's\": \"so as / so is\",\n",
    "\"that'd\": \"that would / that had\",\n",
    "\"that'd've\": \"that would have\",\n",
    "\"that's\": \"that has / that is\",\n",
    "\"there'd\": \"there had / there would\",\n",
    "\"there'd've\": \"there would have\",\n",
    "\"there's\": \"there has / there is\",\n",
    "\"they'd\": \"they had / they would\",\n",
    "\"they'd've\": \"they would have\",\n",
    "\"they'll\": \"they shall / they will\",\n",
    "\"they'll've\": \"they shall have / they will have\",\n",
    "\"they're\": \"they are\",\n",
    "\"they've\": \"they have\",\n",
    "\"to've\": \"to have\",\n",
    "\"wasn't\": \"was not\",\n",
    "\"we'd\": \"we had / we would\",\n",
    "\"we'd've\": \"we would have\",\n",
    "\"we'll\": \"we will\",\n",
    "\"we'll've\": \"we will have\",\n",
    "\"we're\": \"we are\",\n",
    "\"we've\": \"we have\",\n",
    "\"weren't\": \"were not\",\n",
    "\"what'll\": \"what shall / what will\",\n",
    "\"what'll've\": \"what shall have / what will have\",\n",
    "\"what're\": \"what are\",\n",
    "\"what's\": \"what has / what is\",\n",
    "\"what've\": \"what have\",\n",
    "\"when's\": \"when has / when is\",\n",
    "\"when've\": \"when have\",\n",
    "\"where'd\": \"where did\",\n",
    "\"where's\": \"where has / where is\",\n",
    "\"where've\": \"where have\",\n",
    "\"who'll\": \"who shall / who will\",\n",
    "\"who'll've\": \"who shall have / who will have\",\n",
    "\"who's\": \"who has / who is\",\n",
    "\"who've\": \"who have\",\n",
    "\"why's\": \"why has / why is\",\n",
    "\"why've\": \"why have\",\n",
    "\"will've\": \"will have\",\n",
    "\"won't\": \"will not\",\n",
    "\"won't've\": \"will not have\",\n",
    "\"would've\": \"would have\",\n",
    "\"wouldn't\": \"would not\",\n",
    "\"wouldn't've\": \"would not have\",\n",
    "\"y'all\": \"you all\",\n",
    "\"y'all'd\": \"you all would\",\n",
    "\"y'all'd've\": \"you all would have\",\n",
    "\"y'all're\": \"you all are\",\n",
    "\"y'all've\": \"you all have\",\n",
    "\"you'd\": \"you had / you would\",\n",
    "\"you'd've\": \"you would have\",\n",
    "\"you'll\": \"you shall / you will\",\n",
    "\"you'll've\": \"you shall have / you will have\",\n",
    "\"you're\": \"you are\",\n",
    "\"you've\": \"you have\",\n",
    "\"ya'll\":\"you all\",\n",
    "\"w/out\":\"workout\"\n",
    "}"
   ]
  },
  {
   "cell_type": "code",
   "execution_count": 89,
   "metadata": {},
   "outputs": [],
   "source": [
    "def clean_tweet(tweet):\n",
    "    tweet=re.sub(r'((w{3,}\\.|https?|bit\\.ly|[^\\s]+\\.(co|com)).[^\\s]*|{link})',' ',tweet)\n",
    "    tweet=re.sub(r'([a-zA-Z])\\1{2,}',r'\\1',tweet)\n",
    "    # Smile -- :), : ), :-), (:, ( :, (-:, :')\n",
    "    tweet = re.sub(r'(:\\s?\\)|:-\\)|\\(\\s?:|\\(-:|:\\'\\))', ' happy ', tweet)\n",
    "    # Laugh -- :D, : D, :-D, xD, x-D, XD, X-D\n",
    "    tweet = re.sub(r'(:\\s?D|:-D|x-?D|X-?D)', ' happy ', tweet)\n",
    "    # Love -- <3, :*\n",
    "    tweet = re.sub(r'(<3|:\\*)', ' happy ', tweet)\n",
    "    # Wink -- ;-), ;), ;-D, ;D, (;,  (-;\n",
    "    tweet = re.sub(r'(;-?\\)|;-?D|\\(-?;)', ' happy ', tweet)\n",
    "    # Sad -- :-(, : (, :(, ):, )-:\n",
    "    tweet = re.sub(r'(:\\s?\\(|:-\\(|\\)\\s?:|\\)-:)', ' sad ', tweet)\n",
    "    # Cry -- :,(, :'(, :\"(\n",
    "    tweet = re.sub(r'(:,\\(|:\\'\\(|:\"\\()', ' sad ', tweet)\n",
    "    \n",
    "    tweet=re.sub(r'[a-zA-z0-9_.+-]*[\\@]+[a-zA-Z0-9_.+-]+',' ',tweet)\n",
    "    #tweet = re.sub(r'.\\#+?[a-zA-Z0-9_.+-]+',' ',str(tweet),flags=re.I)\n",
    "    tweet=re.sub(r'(^RT|[\\s]+(RT|rt)[\\s]+)',r' ',tweet)\n",
    "    tweet=re.sub(r'\\$\\w*',' ',tweet)\n",
    "    tweet=re.sub(r'&\\w*',' ',tweet)\n",
    "    \n",
    "    tweet=tweet.encode('utf-8')\n",
    "    tweet=re.sub(rb'[^\\x00-\\x7f]',rb' ',tweet)\n",
    "    return tweet.decode('utf-8')"
   ]
  },
  {
   "cell_type": "code",
   "execution_count": 90,
   "metadata": {},
   "outputs": [],
   "source": [
    "clean_tweets=[]\n",
    "for tweet in tweet_data['tweet']:\n",
    "    clean_tweets.append({'tweet':clean_tweet(tweet)})\n",
    "        \n",
    "clean_data=pd.DataFrame(clean_tweets)"
   ]
  },
  {
   "cell_type": "code",
   "execution_count": 91,
   "metadata": {},
   "outputs": [],
   "source": [
    "lemmatizer = WordNetLemmatizer()\n",
    "tokenizer = TweetTokenizer()"
   ]
  },
  {
   "cell_type": "code",
   "execution_count": 92,
   "metadata": {},
   "outputs": [],
   "source": [
    "def get_wordnet_pos(word):\n",
    "    \"\"\"Map POS tag to first character lemmatize() accepts\"\"\"\n",
    "    tag = nltk.pos_tag([word])[0][1][0].upper()\n",
    "    tag_dict = {\"J\": wordnet.ADJ,\n",
    "                \"N\": wordnet.NOUN,\n",
    "                \"V\": wordnet.VERB,\n",
    "                \"R\": wordnet.ADV}\n",
    "\n",
    "    return tag_dict.get(tag, wordnet.NOUN)"
   ]
  },
  {
   "cell_type": "code",
   "execution_count": 93,
   "metadata": {},
   "outputs": [],
   "source": [
    "def treatment_tweet(tweet):\n",
    "    tweet= tweet.lower()\n",
    "    p =re.compile(r'\\b(' + '|'.join(short_word_dict.keys()) + r')\\b')\n",
    "    tweet = p.sub(lambda x: short_word_dict[x.group()],tweet)\n",
    "    q =re.compile(r'\\b(' + '|'.join(negation_dic.keys()) + r')\\b')\n",
    "    tweet = q.sub(lambda x: negation_dic[x.group()],tweet)\n",
    "    tweet = re.sub(r'[^a-zA-Z]',' ', tweet)\n",
    "    tweet = re.sub(r'\\b\\w{1,2}\\b', ' ', tweet)\n",
    "    tweet = re.sub(r'[\\s]+', ' ', tweet ) #Remove additional white spaces\n",
    "    tweet = ' '.join([lemmatizer.lemmatize(w, get_wordnet_pos(w)) for w in tokenizer.tokenize(tweet)])\n",
    "    tweet = ' '.join([word for word in tokenizer.tokenize(tweet) if word not in stop_words])\n",
    "    tweet = tweet.strip(' ')\n",
    "    return tweet"
   ]
  },
  {
   "cell_type": "code",
   "execution_count": 94,
   "metadata": {},
   "outputs": [],
   "source": [
    "stop_words = list(stopwords.words('english')) \n",
    "list_processed_tweet=[]\n",
    "with open(\"preprocess.txt\",'w') as f:\n",
    "    for tweet in clean_data['tweet']:\n",
    "        list_processed_tweet.append({'tweet':treatment_tweet(tweet)})\n",
    "        f.writelines(treatment_tweet(tweet) +'\\n')\n",
    "    f.close()\n",
    "preprocessed_tweet=pd.DataFrame(list_processed_tweet)\n",
    "preprocessed_tweet.drop(index=[6799],axis=0,inplace=True)\n",
    "tweet_data['sentiment'].drop(index=[6800],axis=0,inplace=True)\n",
    "preprocessed_tweet.to_csv('preprocess.csv',index=False)\n",
    "tweet_data['sentiment'].to_frame().to_csv('sentiment.csv',index=False)"
   ]
  },
  {
   "cell_type": "code",
   "execution_count": 694,
   "metadata": {},
   "outputs": [
    {
     "name": "stderr",
     "output_type": "stream",
     "text": [
      "c:\\users\\dazzabhi\\appdata\\local\\programs\\python\\python37\\lib\\site-packages\\stylecloud\\stylecloud.py:135: MatplotlibDeprecationWarning: \n",
      "The makeMappingArray function was deprecated in Matplotlib 3.2 and will be removed two minor releases later. This is not considered public API any longer.\n",
      "  gradient = np.array(makeMappingArray(size, palette_func.mpl_colormap))\n"
     ]
    }
   ],
   "source": [
    "\n",
    "stylecloud.gen_stylecloud(file_path=\"preprocess.txt\",\n",
    "                          icon_name='fab fa-twitter',\n",
    "                          size=1080,\n",
    "                          palette=\"cartocolors.diverging.TealRose_7\",\n",
    "                          background_color='black',\n",
    "                          custom_stopwords=stop_words,gradient='horizontal',\n",
    "                          max_words=200,random_state=41,collocations=False)"
   ]
  },
  {
   "cell_type": "code",
   "execution_count": 95,
   "metadata": {},
   "outputs": [],
   "source": [
    "preprocessed_data=pd.read_csv('preprocess.csv')\n",
    "tweet_data_1=pd.read_csv('sentiment.csv')"
   ]
  },
  {
   "cell_type": "code",
   "execution_count": 96,
   "metadata": {},
   "outputs": [
    {
     "name": "stdout",
     "output_type": "stream",
     "text": [
      "(7272,) (7272,)\n"
     ]
    }
   ],
   "source": [
    "X=preprocessed_data['tweet']\n",
    "y=tweet_data_1['sentiment']\n",
    "print(X.shape,y.shape)"
   ]
  },
  {
   "cell_type": "code",
   "execution_count": 97,
   "metadata": {},
   "outputs": [],
   "source": [
    "X_train, X_test, y_train, y_test = train_test_split(X, y, test_size=0.2, random_state=42)"
   ]
  },
  {
   "cell_type": "code",
   "execution_count": 8,
   "metadata": {},
   "outputs": [],
   "source": [
    "parameters = {\n",
    "    'tfidfvectorizer__lowercase': [False],\n",
    "    'tfidfvectorizer__max_df': (0.5, 0.75, 1.0),\n",
    "    'tfidfvectorizer__ngram_range': ((1, 1), (1, 2),(1,3), (2, 2),(2,3)),\n",
    "    'clf__C': (0.1,1, 10, 100),\n",
    "    #'clf__penalty': ('l1', 'l2'),\n",
    "    'clf__gamma': (1,0.1,0.01,0.001),\n",
    "    'clf__kernel': ('rbf', 'poly', 'linear','sigmoid')\n",
    "}"
   ]
  },
  {
   "cell_type": "code",
   "execution_count": 9,
   "metadata": {},
   "outputs": [],
   "source": [
    "model_pipeline = Pipeline([\n",
    "    ('tfidfvectorizer', TfidfVectorizer()),\n",
    "     #('svd',TruncatedSVD()),\n",
    "    #('model',MultinomialNB()),\n",
    "    #('model_1',LogisticRegression())\n",
    "    ('clf',SVC())\n",
    "    \n",
    "])"
   ]
  },
  {
   "cell_type": "code",
   "execution_count": 10,
   "metadata": {},
   "outputs": [],
   "source": [
    "cv = RepeatedStratifiedKFold(n_splits=5, n_repeats=3, random_state=1)\n"
   ]
  },
  {
   "cell_type": "code",
   "execution_count": 127,
   "metadata": {},
   "outputs": [
    {
     "name": "stdout",
     "output_type": "stream",
     "text": [
      "Performing grid search...\n",
      "pipeline: ['tfidfvectorizer', 'clf']\n",
      "Fitting 15 folds for each of 960 candidates, totalling 14400 fits\n"
     ]
    },
    {
     "name": "stderr",
     "output_type": "stream",
     "text": [
      "[Parallel(n_jobs=-1)]: Using backend LokyBackend with 4 concurrent workers.\n",
      "[Parallel(n_jobs=-1)]: Done  42 tasks      | elapsed:  2.3min\n",
      "[Parallel(n_jobs=-1)]: Done 192 tasks      | elapsed:  9.7min\n",
      "[Parallel(n_jobs=-1)]: Done 442 tasks      | elapsed: 25.8min\n",
      "[Parallel(n_jobs=-1)]: Done 792 tasks      | elapsed: 45.6min\n",
      "[Parallel(n_jobs=-1)]: Done 1242 tasks      | elapsed: 63.8min\n",
      "[Parallel(n_jobs=-1)]: Done 1792 tasks      | elapsed: 84.4min\n",
      "[Parallel(n_jobs=-1)]: Done 2442 tasks      | elapsed: 113.3min\n",
      "[Parallel(n_jobs=-1)]: Done 3192 tasks      | elapsed: 137.0min\n",
      "[Parallel(n_jobs=-1)]: Done 4042 tasks      | elapsed: 173.4min\n",
      "[Parallel(n_jobs=-1)]: Done 4992 tasks      | elapsed: 212.2min\n",
      "[Parallel(n_jobs=-1)]: Done 6042 tasks      | elapsed: 255.6min\n",
      "[Parallel(n_jobs=-1)]: Done 7192 tasks      | elapsed: 297.2min\n",
      "[Parallel(n_jobs=-1)]: Done 8442 tasks      | elapsed: 368.6min\n",
      "[Parallel(n_jobs=-1)]: Done 9792 tasks      | elapsed: 439.7min\n",
      "[Parallel(n_jobs=-1)]: Done 11242 tasks      | elapsed: 517.0min\n",
      "[Parallel(n_jobs=-1)]: Done 12792 tasks      | elapsed: 598.5min\n",
      "[Parallel(n_jobs=-1)]: Done 14400 out of 14400 | elapsed: 688.8min finished\n"
     ]
    },
    {
     "name": "stdout",
     "output_type": "stream",
     "text": [
      "Best score: 0.652\n",
      "Best parameters set:\n",
      "\tclf__C: 100\n",
      "\tclf__gamma: 0.01\n",
      "\tclf__kernel: 'rbf'\n",
      "\ttfidfvectorizer__lowercase: False\n",
      "\ttfidfvectorizer__max_df: 1.0\n",
      "\ttfidfvectorizer__ngram_range: (1, 3)\n"
     ]
    }
   ],
   "source": [
    "grid_search = GridSearchCV(model_pipeline, parameters, n_jobs=-1,cv=cv, verbose=1,scoring='f1_weighted')\n",
    "print(\"Performing grid search...\")\n",
    "print(\"pipeline:\", [name for name, _ in model_pipeline.steps])\n",
    "grid_search.fit(X_train,y_train)\n",
    "print(\"Best score: %0.3f\" % grid_search.best_score_)\n",
    "print(\"Best parameters set:\")\n",
    "best_parameters = grid_search.best_estimator_.get_params()\n",
    "for param_name in sorted(parameters.keys()):\n",
    "    print(\"\\t%s: %r\" % (param_name, best_parameters[param_name]))"
   ]
  },
  {
   "cell_type": "code",
   "execution_count": 98,
   "metadata": {},
   "outputs": [],
   "source": [
    "test_data=test_data.drop('tweet_id',axis=1)\n",
    "test_data.dropna(axis=0,inplace=True)"
   ]
  },
  {
   "cell_type": "code",
   "execution_count": 99,
   "metadata": {},
   "outputs": [],
   "source": [
    "clean_tweets_1=[]\n",
    "for tweet in test_data['tweet']:\n",
    "    clean_tweets_1.append({'tweet':clean_tweet(tweet)})\n",
    "        \n",
    "clean_data_1=pd.DataFrame(clean_tweets_1)"
   ]
  },
  {
   "cell_type": "code",
   "execution_count": 100,
   "metadata": {},
   "outputs": [],
   "source": [
    "list_processed_tweet_1=[]\n",
    "for tweet in clean_data_1['tweet']:\n",
    "    list_processed_tweet_1.append({'tweet':treatment_tweet(tweet)})\n",
    "\n",
    "preprocessed_tweet_1=pd.DataFrame(list_processed_tweet_1)"
   ]
  },
  {
   "cell_type": "code",
   "execution_count": 101,
   "metadata": {},
   "outputs": [],
   "source": [
    "vectorizer_1= TfidfVectorizer(lowercase=False,ngram_range=(1,2),max_df=1.0)\n",
    "\n",
    "vectorizer_1.fit(preprocessed_data['tweet'])\n",
    "vect_1=vectorizer_1.transform(preprocessed_tweet_1['tweet'])\n",
    "vect_2=vectorizer_1.transform(preprocessed_data['tweet'])\n"
   ]
  },
  {
   "cell_type": "code",
   "execution_count": 102,
   "metadata": {},
   "outputs": [
    {
     "name": "stdout",
     "output_type": "stream",
     "text": [
      "(36468,)\n"
     ]
    }
   ],
   "source": [
    "feature_names = vectorizer_1.get_feature_names()\n",
    "print(np.asarray(feature_names).shape)"
   ]
  },
  {
   "cell_type": "code",
   "execution_count": 41,
   "metadata": {},
   "outputs": [],
   "source": [
    "#sm=SMOTE()\n",
    "#X_resampled_1,y_resampled_1=sm.fit_sample(vect_2,y)"
   ]
  },
  {
   "cell_type": "code",
   "execution_count": 109,
   "metadata": {},
   "outputs": [
    {
     "data": {
      "text/plain": [
       "SVC(C=10, break_ties=False, cache_size=200, class_weight=None, coef0=0.0,\n",
       "    decision_function_shape='ovr', degree=3, gamma=0.1, kernel='rbf',\n",
       "    max_iter=-1, probability=False, random_state=None, shrinking=True,\n",
       "    tol=0.001, verbose=False)"
      ]
     },
     "execution_count": 109,
     "metadata": {},
     "output_type": "execute_result"
    }
   ],
   "source": [
    "svc=SVC(C=10,gamma=0.1,kernel='rbf')\n",
    "#logreg_1=LogisticRegression(C=1,penalty='l2')\n",
    "svc.fit(vect_2,y)\n",
    "#print(\"Best score: %0.3f\" % svc.best_score_)"
   ]
  },
  {
   "cell_type": "code",
   "execution_count": 110,
   "metadata": {},
   "outputs": [],
   "source": [
    "y_pred=svc.predict(vect_1)"
   ]
  },
  {
   "cell_type": "code",
   "execution_count": 111,
   "metadata": {},
   "outputs": [],
   "source": [
    "test_df=pd.read_csv('test.csv')\n"
   ]
  },
  {
   "cell_type": "code",
   "execution_count": 112,
   "metadata": {},
   "outputs": [],
   "source": [
    "to_submit = pd.DataFrame({'tweet_id': test_df['tweet_id'] ,'sentiment': y_pred} )"
   ]
  },
  {
   "cell_type": "code",
   "execution_count": 113,
   "metadata": {},
   "outputs": [],
   "source": [
    "to_submit.to_csv('first_submission21.csv', index=False)"
   ]
  },
  {
   "cell_type": "code",
   "execution_count": 114,
   "metadata": {},
   "outputs": [
    {
     "data": {
      "text/plain": [
       "1    1241\n",
       "2     519\n",
       "0      54\n",
       "3       5\n",
       "Name: sentiment, dtype: int64"
      ]
     },
     "execution_count": 114,
     "metadata": {},
     "output_type": "execute_result"
    }
   ],
   "source": [
    "to_submit.sentiment.value_counts()"
   ]
  },
  {
   "cell_type": "code",
   "execution_count": null,
   "metadata": {},
   "outputs": [],
   "source": []
  }
 ],
 "metadata": {
  "kernelspec": {
   "display_name": "Python 3",
   "language": "python",
   "name": "python3"
  },
  "language_info": {
   "codemirror_mode": {
    "name": "ipython",
    "version": 3
   },
   "file_extension": ".py",
   "mimetype": "text/x-python",
   "name": "python",
   "nbconvert_exporter": "python",
   "pygments_lexer": "ipython3",
   "version": "3.7.7"
  }
 },
 "nbformat": 4,
 "nbformat_minor": 2
}
